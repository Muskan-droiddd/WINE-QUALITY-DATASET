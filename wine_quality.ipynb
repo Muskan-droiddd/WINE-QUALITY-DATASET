{
  "nbformat": 4,
  "nbformat_minor": 0,
  "metadata": {
    "colab": {
      "provenance": [],
      "authorship_tag": "ABX9TyPT38vuxFe+hnzzrtXzRNSB",
      "include_colab_link": true
    },
    "kernelspec": {
      "name": "python3",
      "display_name": "Python 3"
    },
    "language_info": {
      "name": "python"
    }
  },
  "cells": [
    {
      "cell_type": "markdown",
      "metadata": {
        "id": "view-in-github",
        "colab_type": "text"
      },
      "source": [
        "<a href=\"https://colab.research.google.com/github/Muskan-droiddd/WINE-QUALITY-DATASET/blob/main/wine_quality.ipynb\" target=\"_parent\"><img src=\"https://colab.research.google.com/assets/colab-badge.svg\" alt=\"Open In Colab\"/></a>"
      ]
    },
    {
      "cell_type": "markdown",
      "source": [
        "WINE QUALITY DATASET"
      ],
      "metadata": {
        "id": "B95UKUDAq6fq"
      }
    },
    {
      "cell_type": "markdown",
      "source": [
        "DATA PREPROCESSING"
      ],
      "metadata": {
        "id": "5sy3A-mZq-b2"
      }
    },
    {
      "cell_type": "code",
      "source": [
        "import pandas as pd\n",
        "from sklearn.impute import SimpleImputer\n",
        "from sklearn.model_selection import train_test_split\n",
        "from sklearn.preprocessing import StandardScaler\n",
        "\n",
        "# Load dataset\n",
        "df = pd.read_csv(\"winequality-red.csv\", delimiter=\";\")\n",
        "\n",
        "\n",
        "# Clean column names\n",
        "df.columns = df.columns.str.strip()\n",
        "\n",
        "# Check column names\n",
        "print(df.columns)\n",
        "\n",
        "# Separate features and target\n",
        "X = df.drop(\"quality\", axis=1)\n",
        "y = df[\"quality\"].values\n",
        "\n",
        "# Handle missing values\n",
        "imputer = SimpleImputer(strategy=\"mean\")\n",
        "X = imputer.fit_transform(X)\n",
        "\n",
        "# Train-test split\n",
        "X_train, X_test, y_train, y_test = train_test_split(X, y, test_size=0.2, random_state=42)\n",
        "\n",
        "# Feature scaling\n",
        "scaler = StandardScaler()\n",
        "X_train_scaled = scaler.fit_transform(X_train)\n",
        "X_test_scaled = scaler.transform(X_test)\n"
      ],
      "metadata": {
        "colab": {
          "base_uri": "https://localhost:8080/"
        },
        "id": "styhfXHYp_IJ",
        "outputId": "8f1dd77c-c860-48fb-cb2a-5ac4a1aa374b"
      },
      "execution_count": 10,
      "outputs": [
        {
          "output_type": "stream",
          "name": "stdout",
          "text": [
            "Index(['fixed acidity', 'volatile acidity', 'citric acid', 'residual sugar',\n",
            "       'chlorides', 'free sulfur dioxide', 'total sulfur dioxide', 'density',\n",
            "       'pH', 'sulphates', 'alcohol', 'quality'],\n",
            "      dtype='object')\n"
          ]
        }
      ]
    },
    {
      "cell_type": "markdown",
      "source": [
        "FEATURE ENGINEERING - POLYNOMIAL EXPANSION"
      ],
      "metadata": {
        "id": "cTiw7Sl6sXWv"
      }
    },
    {
      "cell_type": "code",
      "source": [
        "from sklearn.preprocessing import PolynomialFeatures\n",
        "\n",
        "poly = PolynomialFeatures(degree=2, include_bias=False)\n",
        "X_poly = poly.fit_transform(X_train_scaled)\n",
        "X_test_poly = poly.transform(X_test_scaled)\n"
      ],
      "metadata": {
        "id": "bdkymWbysndk"
      },
      "execution_count": 11,
      "outputs": []
    },
    {
      "cell_type": "markdown",
      "source": [
        "TRAINING MODELS"
      ],
      "metadata": {
        "id": "cayQBFsxsrj2"
      }
    },
    {
      "cell_type": "code",
      "source": [
        "from sklearn.linear_model import LinearRegression, Ridge, Lasso, SGDRegressor\n",
        "from sklearn.metrics import mean_squared_error, r2_score\n",
        "from time import time\n",
        "\n",
        "models = {\n",
        "    \"LinearRegression\": LinearRegression(),\n",
        "    \"SGDRegressor\": SGDRegressor(max_iter=1000, tol=1e-3),\n",
        "    \"Ridge\": Ridge(alpha=1.0),\n",
        "    \"Lasso\": Lasso(alpha=0.1)\n",
        "}\n",
        "\n",
        "results = {}\n",
        "\n",
        "for name, model in models.items():\n",
        "    start = time()\n",
        "    model.fit(X_poly, y_train)\n",
        "    y_pred = model.predict(X_test_poly)\n",
        "    elapsed = time() - start\n",
        "    results[name] = {\n",
        "        \"RMSE\": np.sqrt(mean_squared_error(y_test, y_pred)),\n",
        "        \"R²\": r2_score(y_test, y_pred),\n",
        "        \"Time (s)\": elapsed\n",
        "    }\n"
      ],
      "metadata": {
        "id": "bEnSmBGesrFy"
      },
      "execution_count": 12,
      "outputs": []
    },
    {
      "cell_type": "markdown",
      "source": [
        "PLOT LEARNING CURVES"
      ],
      "metadata": {
        "id": "RjWNOTvGs3xx"
      }
    },
    {
      "cell_type": "code",
      "source": [
        "%matplotlib inline\n",
        "import matplotlib.pyplot as plt\n",
        "from sklearn.model_selection import learning_curve\n",
        "from sklearn.linear_model import LinearRegression\n",
        "\n",
        "def plot_learning_curve(estimator, X, y, title):\n",
        "    train_sizes, train_scores, val_scores = learning_curve(estimator, X, y, cv=5, scoring=\"neg_mean_squared_error\")\n",
        "    train_rmse = (-train_scores.mean(axis=1)) ** 0.5\n",
        "    val_rmse = (-val_scores.mean(axis=1)) ** 0.5\n",
        "\n",
        "    plt.figure(figsize=(8, 5))\n",
        "    plt.plot(train_sizes, train_rmse, 'o-', label=\"Train RMSE\")\n",
        "    plt.plot(train_sizes, val_rmse, 's-', label=\"Validation RMSE\")\n",
        "    plt.title(title)\n",
        "    plt.xlabel(\"Training Set Size\")\n",
        "    plt.ylabel(\"RMSE\")\n",
        "    plt.legend()\n",
        "    plt.grid(True)\n",
        "    plt.show()\n",
        "\n",
        "print(\" Plotting learning curve\")\n",
        "plot_learning_curve(LinearRegression(), X_poly, y_train, \"Linear Regression\")\n"
      ],
      "metadata": {
        "colab": {
          "base_uri": "https://localhost:8080/",
          "height": 506
        },
        "id": "P2jaa8PBtJ5K",
        "outputId": "fa0a00a9-d5d3-4cdc-8ef3-c2d2c84e0b29"
      },
      "execution_count": 15,
      "outputs": [
        {
          "output_type": "stream",
          "name": "stdout",
          "text": [
            "✅ Plotting learning curve\n"
          ]
        },
        {
          "output_type": "display_data",
          "data": {
            "text/plain": [
              "<Figure size 800x500 with 1 Axes>"
            ],
            "image/png": "[encoded data removed]"
          },
          "metadata": {}
        }
      ]
    },
    {
      "cell_type": "markdown",
      "source": [
        "HYPERPAEAMETER TUNING WITH GRID SEARCH"
      ],
      "metadata": {
        "id": "8RQ0GwT9tlX0"
      }
    },
    {
      "cell_type": "code",
      "source": [
        "from sklearn.model_selection import GridSearchCV\n",
        "\n",
        "param_grid = {\"alpha\": [0.01, 0.1, 1.0, 10.0, 100.0]}\n",
        "ridge_search = GridSearchCV(Ridge(), param_grid, cv=5, scoring=\"neg_mean_squared_error\")\n",
        "ridge_search.fit(X_poly, y_train)\n",
        "print(\"Best Ridge α:\", ridge_search.best_params_)\n"
      ],
      "metadata": {
        "colab": {
          "base_uri": "https://localhost:8080/"
        },
        "id": "cKgvOWLLtz0d",
        "outputId": "3aef8e08-c61d-4c5a-9d81-1fc5b35a03fb"
      },
      "execution_count": 16,
      "outputs": [
        {
          "output_type": "stream",
          "name": "stdout",
          "text": [
            "Best Ridge α: {'alpha': 100.0}\n"
          ]
        }
      ]
    },
    {
      "cell_type": "markdown",
      "source": [
        "FEATURE ANALYSIS"
      ],
      "metadata": {
        "id": "IOx8GmZzuMh7"
      }
    },
    {
      "cell_type": "code",
      "source": [
        "feature_names = poly.get_feature_names_out(df.drop(\"quality\", axis=1).columns)\n",
        "\n",
        "for name in results:\n",
        "    if name in [\"Ridge\", \"Lasso\", \"Linear Regression\"]:\n",
        "        coefs = models[name].coef_\n",
        "        top_feature = feature_names[np.argmax(np.abs(coefs))]\n",
        "        results[name][\"Top Feature\"] = top_feature\n"
      ],
      "metadata": {
        "id": "RoKHkk4DuIbA"
      },
      "execution_count": 17,
      "outputs": []
    },
    {
      "cell_type": "markdown",
      "source": [
        "COMPARISON TABLE"
      ],
      "metadata": {
        "id": "FptBzOf2uTZ5"
      }
    },
    {
      "cell_type": "code",
      "source": [
        "import pandas as pd\n",
        "\n",
        "comparison_df = pd.DataFrame(results).T\n",
        "print(comparison_df)\n"
      ],
      "metadata": {
        "colab": {
          "base_uri": "https://localhost:8080/"
        },
        "id": "q_H46qy_uVm8",
        "outputId": "62722742-a7a6-4648-f9fc-9a7badba311a"
      },
      "execution_count": 18,
      "outputs": [
        {
          "output_type": "stream",
          "name": "stdout",
          "text": [
            "                                 RMSE                          R²  Time (s)  \\\n",
            "LinearRegression             0.617945                     0.41568  0.029868   \n",
            "SGDRegressor      257882406116.654755 -101763946612686401306624.0  0.005914   \n",
            "Ridge                        0.617413                    0.416687  0.004351   \n",
            "Lasso                        0.660379                    0.332676  0.003742   \n",
            "\n",
            "                 Top Feature  \n",
            "LinearRegression         NaN  \n",
            "SGDRegressor             NaN  \n",
            "Ridge                alcohol  \n",
            "Lasso                alcohol  \n"
          ]
        }
      ]
    }
  ]
}